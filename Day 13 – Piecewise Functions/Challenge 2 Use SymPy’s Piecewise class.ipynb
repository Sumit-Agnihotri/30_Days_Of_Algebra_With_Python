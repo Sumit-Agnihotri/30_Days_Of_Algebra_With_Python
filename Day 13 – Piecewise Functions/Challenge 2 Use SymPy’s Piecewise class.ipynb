{
 "cells": [
  {
   "cell_type": "code",
   "execution_count": null,
   "id": "450e0ffe",
   "metadata": {},
   "outputs": [
    {
     "name": "stdout",
     "output_type": "stream",
     "text": [
      "f(x): Piecewise((x**2, x < 0), (x + 2, True))\n",
      "f(-3): 9\n",
      "f(2): 4\n"
     ]
    }
   ],
   "source": [
    "from sympy import symbols, Piecewise\n",
    "\n",
    "x = symbols('x')\n",
    "f = Piecewise((x**2, x < 0), (x + 2, x >= 0))\n",
    "\n",
    "print(\"f(x):\", f)\n",
    "print(\"f(-3):\", f.subs(x, -3))\n",
    "print(\"f(2):\", f.subs(x, 2))"
   ]
  }
 ],
 "metadata": {
  "kernelspec": {
   "display_name": "Python 3",
   "language": "python",
   "name": "python3"
  },
  "language_info": {
   "codemirror_mode": {
    "name": "ipython",
    "version": 3
   },
   "file_extension": ".py",
   "mimetype": "text/x-python",
   "name": "python",
   "nbconvert_exporter": "python",
   "pygments_lexer": "ipython3",
   "version": "3.13.5"
  }
 },
 "nbformat": 4,
 "nbformat_minor": 5
}
